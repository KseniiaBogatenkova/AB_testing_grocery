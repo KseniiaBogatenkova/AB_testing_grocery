{
 "cells": [
  {
   "cell_type": "code",
   "execution_count": 1,
   "id": "5be8a9fa-a899-4190-9e61-8126f34c686f",
   "metadata": {},
   "outputs": [],
   "source": [
    "import pandas as pd\n",
    "import os\n",
    "from scipy.stats import mannwhitneyu\n",
    "import numpy as np\n",
    "from scipy.stats import ttest_ind\n"
   ]
  },
  {
   "cell_type": "code",
   "execution_count": 2,
   "id": "6e60286f-a8ad-4498-87f8-f6a8a40f359e",
   "metadata": {},
   "outputs": [],
   "source": [
    "#df = pd.read_csv(\"/kaggle/input/grocery-website-data-for-ab-test/grocerywebsiteabtestdata.csv\")\n",
    "#df.head()"
   ]
  },
  {
   "cell_type": "code",
   "execution_count": 3,
   "id": "3890efa2-5692-4e4d-b98a-dad92c98a143",
   "metadata": {},
   "outputs": [
    {
     "name": "stdout",
     "output_type": "stream",
     "text": [
      "Текущая рабочая директория: /Users/kseniiabogatenkova/AB_testing_kaggle\n"
     ]
    }
   ],
   "source": [
    "print(\"Текущая рабочая директория:\", os.getcwd())\n"
   ]
  },
  {
   "cell_type": "code",
   "execution_count": 4,
   "id": "bb9b9c1f-6f57-444e-9b08-615d29a4fb4b",
   "metadata": {},
   "outputs": [],
   "source": [
    "df = pd.read_csv(\"grocery.csv\")  # Файл должен быть в той же директории"
   ]
  },
  {
   "cell_type": "markdown",
   "id": "e57873b3-88a4-4a8e-ad63-dab5cded90cf",
   "metadata": {},
   "source": [
    "Смотрим колличество строк и колличество столбцов"
   ]
  },
  {
   "cell_type": "code",
   "execution_count": 5,
   "id": "51914f64-511c-403f-b5a4-d79bffbdd0e2",
   "metadata": {},
   "outputs": [
    {
     "data": {
      "text/plain": [
       "(184588, 5)"
      ]
     },
     "execution_count": 5,
     "metadata": {},
     "output_type": "execute_result"
    }
   ],
   "source": [
    "df.shape"
   ]
  },
  {
   "cell_type": "code",
   "execution_count": 6,
   "id": "0b379f14-11a8-4fde-825b-d13d02260a4b",
   "metadata": {},
   "outputs": [
    {
     "name": "stdout",
     "output_type": "stream",
     "text": [
      "[0 1]\n",
      "10740\n"
     ]
    }
   ],
   "source": [
    "print(df[\"VisitPageFlag\"].unique())  # Посмотрим, какие есть уникальные значения\n",
    "print(df[\"VisitPageFlag\"].sum())  # Проверим, есть ли вообще ненулевые значения\n"
   ]
  },
  {
   "cell_type": "code",
   "execution_count": 7,
   "id": "6fb079d3-be0a-45b4-8325-e2e53e3efcb8",
   "metadata": {},
   "outputs": [
    {
     "name": "stdout",
     "output_type": "stream",
     "text": [
      "<class 'pandas.core.frame.DataFrame'>\n",
      "RangeIndex: 184588 entries, 0 to 184587\n",
      "Data columns (total 5 columns):\n",
      " #   Column         Non-Null Count   Dtype \n",
      "---  ------         --------------   ----- \n",
      " 0   RecordID       184588 non-null  int64 \n",
      " 1   IP Address     184588 non-null  object\n",
      " 2   LoggedInFlag   184588 non-null  int64 \n",
      " 3   ServerID       184588 non-null  int64 \n",
      " 4   VisitPageFlag  184588 non-null  int64 \n",
      "dtypes: int64(4), object(1)\n",
      "memory usage: 7.0+ MB\n"
     ]
    }
   ],
   "source": [
    "df.info()"
   ]
  },
  {
   "cell_type": "markdown",
   "id": "557616ab-52e3-49d8-a8d9-e6c46a823aec",
   "metadata": {},
   "source": [
    "Посмотреть распределение пользователей по серверам:\n"
   ]
  },
  {
   "cell_type": "code",
   "execution_count": 8,
   "id": "08ac7d1c-1914-45bf-a5a2-2e4a0af3e242",
   "metadata": {},
   "outputs": [
    {
     "name": "stdout",
     "output_type": "stream",
     "text": [
      "ServerID\n",
      "1    61591\n",
      "3    61534\n",
      "2    61463\n",
      "Name: count, dtype: int64\n"
     ]
    }
   ],
   "source": [
    "print(df[\"ServerID\"].value_counts())"
   ]
  },
  {
   "cell_type": "markdown",
   "id": "a32b7594-8693-4e7b-9134-77b7b991c0e5",
   "metadata": {},
   "source": [
    "Проверить, различается ли поведение пользователей на серверах"
   ]
  },
  {
   "cell_type": "code",
   "execution_count": 9,
   "id": "1a3482b9-be7d-43ab-af01-faf0170807bf",
   "metadata": {},
   "outputs": [
    {
     "data": {
      "text/plain": [
       "ServerID\n",
       "1    0.067640\n",
       "2    0.053300\n",
       "3    0.053596\n",
       "Name: VisitPageFlag, dtype: float64"
      ]
     },
     "execution_count": 9,
     "metadata": {},
     "output_type": "execute_result"
    }
   ],
   "source": [
    "df.groupby(\"ServerID\")[\"VisitPageFlag\"].mean()"
   ]
  },
  {
   "cell_type": "markdown",
   "id": "02ce3400-3910-4bbe-a624-3ad0ff1adb6f",
   "metadata": {},
   "source": [
    "Серверы 2 и 3 могут быть одинаковыми, т.е. они работают как зеркала (обрабатывают один и тот же продукт).\n",
    "Это нужно для стабильности работы и балансировки нагрузки."
   ]
  },
  {
   "cell_type": "markdown",
   "id": "4b9b1515-f81a-45a7-8766-cb7e8f028dfa",
   "metadata": {},
   "source": [
    "Не будем делать индекс в groupby(), используем as_index=False, чтобы при группировке он сам его не создавал:"
   ]
  },
  {
   "cell_type": "code",
   "execution_count": 10,
   "id": "d6f3ca86-4528-44a8-98d6-13b253060350",
   "metadata": {},
   "outputs": [],
   "source": [
    "df = df.groupby([\"IP Address\", \"LoggedInFlag\", \"ServerID\"], as_index=False)[\"VisitPageFlag\"].sum().rename(columns={\"VisitPageFlag\": \"VisitPageFlagSum\"})"
   ]
  },
  {
   "cell_type": "code",
   "execution_count": 11,
   "id": "2a9bdd24-7dea-44b1-8221-59128c36bac4",
   "metadata": {},
   "outputs": [
    {
     "data": {
      "text/html": [
       "<div>\n",
       "<style scoped>\n",
       "    .dataframe tbody tr th:only-of-type {\n",
       "        vertical-align: middle;\n",
       "    }\n",
       "\n",
       "    .dataframe tbody tr th {\n",
       "        vertical-align: top;\n",
       "    }\n",
       "\n",
       "    .dataframe thead th {\n",
       "        text-align: right;\n",
       "    }\n",
       "</style>\n",
       "<table border=\"1\" class=\"dataframe\">\n",
       "  <thead>\n",
       "    <tr style=\"text-align: right;\">\n",
       "      <th></th>\n",
       "      <th>IP Address</th>\n",
       "      <th>LoggedInFlag</th>\n",
       "      <th>ServerID</th>\n",
       "      <th>VisitPageFlagSum</th>\n",
       "    </tr>\n",
       "  </thead>\n",
       "  <tbody>\n",
       "    <tr>\n",
       "      <th>0</th>\n",
       "      <td>0.0.108.2</td>\n",
       "      <td>0</td>\n",
       "      <td>1</td>\n",
       "      <td>0</td>\n",
       "    </tr>\n",
       "    <tr>\n",
       "      <th>1</th>\n",
       "      <td>0.0.109.6</td>\n",
       "      <td>1</td>\n",
       "      <td>1</td>\n",
       "      <td>0</td>\n",
       "    </tr>\n",
       "    <tr>\n",
       "      <th>2</th>\n",
       "      <td>0.0.111.8</td>\n",
       "      <td>0</td>\n",
       "      <td>3</td>\n",
       "      <td>0</td>\n",
       "    </tr>\n",
       "    <tr>\n",
       "      <th>3</th>\n",
       "      <td>0.0.160.9</td>\n",
       "      <td>1</td>\n",
       "      <td>2</td>\n",
       "      <td>0</td>\n",
       "    </tr>\n",
       "    <tr>\n",
       "      <th>4</th>\n",
       "      <td>0.0.163.1</td>\n",
       "      <td>0</td>\n",
       "      <td>2</td>\n",
       "      <td>0</td>\n",
       "    </tr>\n",
       "  </tbody>\n",
       "</table>\n",
       "</div>"
      ],
      "text/plain": [
       "  IP Address  LoggedInFlag  ServerID  VisitPageFlagSum\n",
       "0  0.0.108.2             0         1                 0\n",
       "1  0.0.109.6             1         1                 0\n",
       "2  0.0.111.8             0         3                 0\n",
       "3  0.0.160.9             1         2                 0\n",
       "4  0.0.163.1             0         2                 0"
      ]
     },
     "execution_count": 11,
     "metadata": {},
     "output_type": "execute_result"
    }
   ],
   "source": [
    "df.head()"
   ]
  },
  {
   "cell_type": "code",
   "execution_count": 12,
   "id": "4ced3be6-007a-470c-8173-59986dcda3fb",
   "metadata": {},
   "outputs": [
    {
     "data": {
      "text/html": [
       "<div>\n",
       "<style scoped>\n",
       "    .dataframe tbody tr th:only-of-type {\n",
       "        vertical-align: middle;\n",
       "    }\n",
       "\n",
       "    .dataframe tbody tr th {\n",
       "        vertical-align: top;\n",
       "    }\n",
       "\n",
       "    .dataframe thead th {\n",
       "        text-align: right;\n",
       "    }\n",
       "</style>\n",
       "<table border=\"1\" class=\"dataframe\">\n",
       "  <thead>\n",
       "    <tr style=\"text-align: right;\">\n",
       "      <th></th>\n",
       "      <th>IP Address</th>\n",
       "      <th>LoggedInFlag</th>\n",
       "      <th>ServerID</th>\n",
       "      <th>VisitPageFlagSum</th>\n",
       "      <th>VisitPageFlag</th>\n",
       "    </tr>\n",
       "  </thead>\n",
       "  <tbody>\n",
       "    <tr>\n",
       "      <th>0</th>\n",
       "      <td>0.0.108.2</td>\n",
       "      <td>0</td>\n",
       "      <td>1</td>\n",
       "      <td>0</td>\n",
       "      <td>0</td>\n",
       "    </tr>\n",
       "    <tr>\n",
       "      <th>1</th>\n",
       "      <td>0.0.109.6</td>\n",
       "      <td>1</td>\n",
       "      <td>1</td>\n",
       "      <td>0</td>\n",
       "      <td>0</td>\n",
       "    </tr>\n",
       "    <tr>\n",
       "      <th>2</th>\n",
       "      <td>0.0.111.8</td>\n",
       "      <td>0</td>\n",
       "      <td>3</td>\n",
       "      <td>0</td>\n",
       "      <td>0</td>\n",
       "    </tr>\n",
       "    <tr>\n",
       "      <th>3</th>\n",
       "      <td>0.0.160.9</td>\n",
       "      <td>1</td>\n",
       "      <td>2</td>\n",
       "      <td>0</td>\n",
       "      <td>0</td>\n",
       "    </tr>\n",
       "    <tr>\n",
       "      <th>4</th>\n",
       "      <td>0.0.163.1</td>\n",
       "      <td>0</td>\n",
       "      <td>2</td>\n",
       "      <td>0</td>\n",
       "      <td>0</td>\n",
       "    </tr>\n",
       "  </tbody>\n",
       "</table>\n",
       "</div>"
      ],
      "text/plain": [
       "  IP Address  LoggedInFlag  ServerID  VisitPageFlagSum  VisitPageFlag\n",
       "0  0.0.108.2             0         1                 0              0\n",
       "1  0.0.109.6             1         1                 0              0\n",
       "2  0.0.111.8             0         3                 0              0\n",
       "3  0.0.160.9             1         2                 0              0\n",
       "4  0.0.163.1             0         2                 0              0"
      ]
     },
     "execution_count": 12,
     "metadata": {},
     "output_type": "execute_result"
    }
   ],
   "source": [
    "# Cоздаём булевый массив (True для ненулевых значений, False для нулей)\n",
    "df[\"VisitPageFlag\"] = (df[\"VisitPageFlagSum\"] != 0).astype(int)\n",
    "df.head()"
   ]
  },
  {
   "cell_type": "markdown",
   "id": "d77ce417-f2df-4233-93e2-d8a8620a6249",
   "metadata": {},
   "source": [
    "Test (1) → получает новую функцию, дизайн или изменения.  \n",
    "Control (2, 3) → остаётся на старой версии, чтобы сравнить результат.  \n"
   ]
  },
  {
   "cell_type": "markdown",
   "id": "99add530-95ff-4c87-a872-c417acfb092c",
   "metadata": {},
   "source": [
    "Разделим датафрейм на тестовую (df_test) и контрольную (df_control) группы, создадим их копии с обновлёнными индексами в одном цикле для оптимизации."
   ]
  },
  {
   "cell_type": "code",
   "execution_count": 13,
   "id": "bb08a53f-3592-4a18-8417-adb17b23079d",
   "metadata": {},
   "outputs": [],
   "source": [
    "df['group'] = df['ServerID'].map({1: 'Test', 2: 'Control', 3: 'Control'})\n",
    "\n",
    "groups = {group: df[df['group'] == group].reset_index(drop=True) for group in ['Control', 'Test']}\n",
    "\n",
    "df_control = groups['Control']\n",
    "df_test = groups['Test']\n"
   ]
  },
  {
   "cell_type": "code",
   "execution_count": 14,
   "id": "488c8ac4-1d14-4cf5-bd59-71881d2fedb0",
   "metadata": {},
   "outputs": [
    {
     "data": {
      "text/html": [
       "<div>\n",
       "<style scoped>\n",
       "    .dataframe tbody tr th:only-of-type {\n",
       "        vertical-align: middle;\n",
       "    }\n",
       "\n",
       "    .dataframe tbody tr th {\n",
       "        vertical-align: top;\n",
       "    }\n",
       "\n",
       "    .dataframe thead th {\n",
       "        text-align: right;\n",
       "    }\n",
       "</style>\n",
       "<table border=\"1\" class=\"dataframe\">\n",
       "  <thead>\n",
       "    <tr style=\"text-align: right;\">\n",
       "      <th></th>\n",
       "      <th>IP Address</th>\n",
       "      <th>LoggedInFlag</th>\n",
       "      <th>ServerID</th>\n",
       "      <th>VisitPageFlagSum</th>\n",
       "      <th>VisitPageFlag</th>\n",
       "      <th>group</th>\n",
       "    </tr>\n",
       "  </thead>\n",
       "  <tbody>\n",
       "    <tr>\n",
       "      <th>0</th>\n",
       "      <td>0.0.111.8</td>\n",
       "      <td>0</td>\n",
       "      <td>3</td>\n",
       "      <td>0</td>\n",
       "      <td>0</td>\n",
       "      <td>Control</td>\n",
       "    </tr>\n",
       "    <tr>\n",
       "      <th>1</th>\n",
       "      <td>0.0.160.9</td>\n",
       "      <td>1</td>\n",
       "      <td>2</td>\n",
       "      <td>0</td>\n",
       "      <td>0</td>\n",
       "      <td>Control</td>\n",
       "    </tr>\n",
       "    <tr>\n",
       "      <th>2</th>\n",
       "      <td>0.0.163.1</td>\n",
       "      <td>0</td>\n",
       "      <td>2</td>\n",
       "      <td>0</td>\n",
       "      <td>0</td>\n",
       "      <td>Control</td>\n",
       "    </tr>\n",
       "    <tr>\n",
       "      <th>3</th>\n",
       "      <td>0.0.178.9</td>\n",
       "      <td>1</td>\n",
       "      <td>2</td>\n",
       "      <td>0</td>\n",
       "      <td>0</td>\n",
       "      <td>Control</td>\n",
       "    </tr>\n",
       "    <tr>\n",
       "      <th>4</th>\n",
       "      <td>0.0.185.4</td>\n",
       "      <td>1</td>\n",
       "      <td>3</td>\n",
       "      <td>0</td>\n",
       "      <td>0</td>\n",
       "      <td>Control</td>\n",
       "    </tr>\n",
       "  </tbody>\n",
       "</table>\n",
       "</div>"
      ],
      "text/plain": [
       "  IP Address  LoggedInFlag  ServerID  VisitPageFlagSum  VisitPageFlag    group\n",
       "0  0.0.111.8             0         3                 0              0  Control\n",
       "1  0.0.160.9             1         2                 0              0  Control\n",
       "2  0.0.163.1             0         2                 0              0  Control\n",
       "3  0.0.178.9             1         2                 0              0  Control\n",
       "4  0.0.185.4             1         3                 0              0  Control"
      ]
     },
     "execution_count": 14,
     "metadata": {},
     "output_type": "execute_result"
    }
   ],
   "source": [
    "df_control.head()"
   ]
  },
  {
   "cell_type": "code",
   "execution_count": 15,
   "id": "d1b5e162-dbc6-4d4b-8bb9-329ee5940841",
   "metadata": {},
   "outputs": [
    {
     "data": {
      "text/html": [
       "<div>\n",
       "<style scoped>\n",
       "    .dataframe tbody tr th:only-of-type {\n",
       "        vertical-align: middle;\n",
       "    }\n",
       "\n",
       "    .dataframe tbody tr th {\n",
       "        vertical-align: top;\n",
       "    }\n",
       "\n",
       "    .dataframe thead th {\n",
       "        text-align: right;\n",
       "    }\n",
       "</style>\n",
       "<table border=\"1\" class=\"dataframe\">\n",
       "  <thead>\n",
       "    <tr style=\"text-align: right;\">\n",
       "      <th></th>\n",
       "      <th>IP Address</th>\n",
       "      <th>LoggedInFlag</th>\n",
       "      <th>ServerID</th>\n",
       "      <th>VisitPageFlagSum</th>\n",
       "      <th>VisitPageFlag</th>\n",
       "      <th>group</th>\n",
       "    </tr>\n",
       "  </thead>\n",
       "  <tbody>\n",
       "    <tr>\n",
       "      <th>0</th>\n",
       "      <td>0.0.108.2</td>\n",
       "      <td>0</td>\n",
       "      <td>1</td>\n",
       "      <td>0</td>\n",
       "      <td>0</td>\n",
       "      <td>Test</td>\n",
       "    </tr>\n",
       "    <tr>\n",
       "      <th>1</th>\n",
       "      <td>0.0.109.6</td>\n",
       "      <td>1</td>\n",
       "      <td>1</td>\n",
       "      <td>0</td>\n",
       "      <td>0</td>\n",
       "      <td>Test</td>\n",
       "    </tr>\n",
       "    <tr>\n",
       "      <th>2</th>\n",
       "      <td>0.0.169.1</td>\n",
       "      <td>1</td>\n",
       "      <td>1</td>\n",
       "      <td>0</td>\n",
       "      <td>0</td>\n",
       "      <td>Test</td>\n",
       "    </tr>\n",
       "    <tr>\n",
       "      <th>3</th>\n",
       "      <td>0.0.181.9</td>\n",
       "      <td>0</td>\n",
       "      <td>1</td>\n",
       "      <td>1</td>\n",
       "      <td>1</td>\n",
       "      <td>Test</td>\n",
       "    </tr>\n",
       "    <tr>\n",
       "      <th>4</th>\n",
       "      <td>0.0.195.5</td>\n",
       "      <td>1</td>\n",
       "      <td>1</td>\n",
       "      <td>0</td>\n",
       "      <td>0</td>\n",
       "      <td>Test</td>\n",
       "    </tr>\n",
       "  </tbody>\n",
       "</table>\n",
       "</div>"
      ],
      "text/plain": [
       "  IP Address  LoggedInFlag  ServerID  VisitPageFlagSum  VisitPageFlag group\n",
       "0  0.0.108.2             0         1                 0              0  Test\n",
       "1  0.0.109.6             1         1                 0              0  Test\n",
       "2  0.0.169.1             1         1                 0              0  Test\n",
       "3  0.0.181.9             0         1                 1              1  Test\n",
       "4  0.0.195.5             1         1                 0              0  Test"
      ]
     },
     "execution_count": 15,
     "metadata": {},
     "output_type": "execute_result"
    }
   ],
   "source": [
    "df_test.head()"
   ]
  },
  {
   "cell_type": "code",
   "execution_count": 16,
   "id": "843c4bfb-e3e7-4eb4-a62a-9f86ae43967c",
   "metadata": {},
   "outputs": [
    {
     "data": {
      "text/html": [
       "<div>\n",
       "<style scoped>\n",
       "    .dataframe tbody tr th:only-of-type {\n",
       "        vertical-align: middle;\n",
       "    }\n",
       "\n",
       "    .dataframe tbody tr th {\n",
       "        vertical-align: top;\n",
       "    }\n",
       "\n",
       "    .dataframe thead th {\n",
       "        text-align: right;\n",
       "    }\n",
       "</style>\n",
       "<table border=\"1\" class=\"dataframe\">\n",
       "  <thead>\n",
       "    <tr style=\"text-align: right;\">\n",
       "      <th></th>\n",
       "      <th>count</th>\n",
       "      <th>mean</th>\n",
       "      <th>std</th>\n",
       "      <th>min</th>\n",
       "      <th>25%</th>\n",
       "      <th>50%</th>\n",
       "      <th>75%</th>\n",
       "      <th>max</th>\n",
       "    </tr>\n",
       "  </thead>\n",
       "  <tbody>\n",
       "    <tr>\n",
       "      <th>LoggedInFlag</th>\n",
       "      <td>66460.0</td>\n",
       "      <td>0.503912</td>\n",
       "      <td>0.499988</td>\n",
       "      <td>0.0</td>\n",
       "      <td>0.0</td>\n",
       "      <td>1.0</td>\n",
       "      <td>1.0</td>\n",
       "      <td>1.0</td>\n",
       "    </tr>\n",
       "    <tr>\n",
       "      <th>ServerID</th>\n",
       "      <td>66460.0</td>\n",
       "      <td>2.500692</td>\n",
       "      <td>0.500003</td>\n",
       "      <td>2.0</td>\n",
       "      <td>2.0</td>\n",
       "      <td>3.0</td>\n",
       "      <td>3.0</td>\n",
       "      <td>3.0</td>\n",
       "    </tr>\n",
       "    <tr>\n",
       "      <th>VisitPageFlagSum</th>\n",
       "      <td>66460.0</td>\n",
       "      <td>0.098917</td>\n",
       "      <td>0.320759</td>\n",
       "      <td>0.0</td>\n",
       "      <td>0.0</td>\n",
       "      <td>0.0</td>\n",
       "      <td>0.0</td>\n",
       "      <td>3.0</td>\n",
       "    </tr>\n",
       "    <tr>\n",
       "      <th>VisitPageFlag</th>\n",
       "      <td>66460.0</td>\n",
       "      <td>0.092251</td>\n",
       "      <td>0.289382</td>\n",
       "      <td>0.0</td>\n",
       "      <td>0.0</td>\n",
       "      <td>0.0</td>\n",
       "      <td>0.0</td>\n",
       "      <td>1.0</td>\n",
       "    </tr>\n",
       "  </tbody>\n",
       "</table>\n",
       "</div>"
      ],
      "text/plain": [
       "                    count      mean       std  min  25%  50%  75%  max\n",
       "LoggedInFlag      66460.0  0.503912  0.499988  0.0  0.0  1.0  1.0  1.0\n",
       "ServerID          66460.0  2.500692  0.500003  2.0  2.0  3.0  3.0  3.0\n",
       "VisitPageFlagSum  66460.0  0.098917  0.320759  0.0  0.0  0.0  0.0  3.0\n",
       "VisitPageFlag     66460.0  0.092251  0.289382  0.0  0.0  0.0  0.0  1.0"
      ]
     },
     "execution_count": 16,
     "metadata": {},
     "output_type": "execute_result"
    }
   ],
   "source": [
    "df_control.describe().T # Транспонируем, чтоб красиво было"
   ]
  },
  {
   "cell_type": "code",
   "execution_count": 17,
   "id": "367bceb1-00c5-42a0-8bfc-29ff4ecb1964",
   "metadata": {},
   "outputs": [
    {
     "data": {
      "text/html": [
       "<div>\n",
       "<style scoped>\n",
       "    .dataframe tbody tr th:only-of-type {\n",
       "        vertical-align: middle;\n",
       "    }\n",
       "\n",
       "    .dataframe tbody tr th {\n",
       "        vertical-align: top;\n",
       "    }\n",
       "\n",
       "    .dataframe thead th {\n",
       "        text-align: right;\n",
       "    }\n",
       "</style>\n",
       "<table border=\"1\" class=\"dataframe\">\n",
       "  <thead>\n",
       "    <tr style=\"text-align: right;\">\n",
       "      <th></th>\n",
       "      <th>count</th>\n",
       "      <th>mean</th>\n",
       "      <th>std</th>\n",
       "      <th>min</th>\n",
       "      <th>25%</th>\n",
       "      <th>50%</th>\n",
       "      <th>75%</th>\n",
       "      <th>max</th>\n",
       "    </tr>\n",
       "  </thead>\n",
       "  <tbody>\n",
       "    <tr>\n",
       "      <th>LoggedInFlag</th>\n",
       "      <td>33303.0</td>\n",
       "      <td>0.503258</td>\n",
       "      <td>0.499997</td>\n",
       "      <td>0.0</td>\n",
       "      <td>0.0</td>\n",
       "      <td>1.0</td>\n",
       "      <td>1.0</td>\n",
       "      <td>1.0</td>\n",
       "    </tr>\n",
       "    <tr>\n",
       "      <th>ServerID</th>\n",
       "      <td>33303.0</td>\n",
       "      <td>1.000000</td>\n",
       "      <td>0.000000</td>\n",
       "      <td>1.0</td>\n",
       "      <td>1.0</td>\n",
       "      <td>1.0</td>\n",
       "      <td>1.0</td>\n",
       "      <td>1.0</td>\n",
       "    </tr>\n",
       "    <tr>\n",
       "      <th>VisitPageFlagSum</th>\n",
       "      <td>33303.0</td>\n",
       "      <td>0.125094</td>\n",
       "      <td>0.359371</td>\n",
       "      <td>0.0</td>\n",
       "      <td>0.0</td>\n",
       "      <td>0.0</td>\n",
       "      <td>0.0</td>\n",
       "      <td>4.0</td>\n",
       "    </tr>\n",
       "    <tr>\n",
       "      <th>VisitPageFlag</th>\n",
       "      <td>33303.0</td>\n",
       "      <td>0.115515</td>\n",
       "      <td>0.319647</td>\n",
       "      <td>0.0</td>\n",
       "      <td>0.0</td>\n",
       "      <td>0.0</td>\n",
       "      <td>0.0</td>\n",
       "      <td>1.0</td>\n",
       "    </tr>\n",
       "  </tbody>\n",
       "</table>\n",
       "</div>"
      ],
      "text/plain": [
       "                    count      mean       std  min  25%  50%  75%  max\n",
       "LoggedInFlag      33303.0  0.503258  0.499997  0.0  0.0  1.0  1.0  1.0\n",
       "ServerID          33303.0  1.000000  0.000000  1.0  1.0  1.0  1.0  1.0\n",
       "VisitPageFlagSum  33303.0  0.125094  0.359371  0.0  0.0  0.0  0.0  4.0\n",
       "VisitPageFlag     33303.0  0.115515  0.319647  0.0  0.0  0.0  0.0  1.0"
      ]
     },
     "execution_count": 17,
     "metadata": {},
     "output_type": "execute_result"
    }
   ],
   "source": [
    "df_test.describe().T"
   ]
  },
  {
   "cell_type": "markdown",
   "id": "c169d214-a3f3-45ae-925e-f6502cf34073",
   "metadata": {},
   "source": [
    "Посчитаем общее число посещений в контрольной группе.\n",
    "Сколько пользователей совершили целевое действие (VisitPageFlag = 1). "
   ]
  },
  {
   "cell_type": "code",
   "execution_count": 18,
   "id": "c1f2e47e-5f5e-4450-868b-16f3c34d8fd2",
   "metadata": {},
   "outputs": [
    {
     "name": "stdout",
     "output_type": "stream",
     "text": [
      "Sum visit for control group: 66460\n",
      "Visit Page target = 1: 6131\n"
     ]
    }
   ],
   "source": [
    "control_sum_visit, control_visit_1 = df_control['VisitPageFlag'].agg(['count', lambda x: (x == 1).sum()])\n",
    "print(f\"Sum visit for control group: {control_sum_visit}\")\n",
    "print(f\"Visit Page target = 1: {control_visit_1}\")\n"
   ]
  },
  {
   "cell_type": "markdown",
   "id": "602282d2-39a0-4c19-a9e2-e85dceb2b5fc",
   "metadata": {},
   "source": [
    "Посчитаем конверсию в контрольной группе:"
   ]
  },
  {
   "cell_type": "code",
   "execution_count": 19,
   "id": "33bd9bb7-2a23-4725-a685-22e75ed828fe",
   "metadata": {},
   "outputs": [
    {
     "data": {
      "text/plain": [
       "0.09225097803189888"
      ]
     },
     "execution_count": 19,
     "metadata": {},
     "output_type": "execute_result"
    }
   ],
   "source": [
    "control_ratio_visit = control_visit_1/control_sum_visit\n",
    "control_ratio_visit"
   ]
  },
  {
   "cell_type": "markdown",
   "id": "6c784280-b57b-4026-bcf2-3d25f7cef643",
   "metadata": {},
   "source": [
    "Посчитаем общее число посещений в тестовой группе.\n",
    "Сколько пользователей совершили целевое действие (VisitPageFlag = 1). "
   ]
  },
  {
   "cell_type": "code",
   "execution_count": 20,
   "id": "746ba889-377b-47a7-8455-b40f9fec8d7d",
   "metadata": {},
   "outputs": [
    {
     "name": "stdout",
     "output_type": "stream",
     "text": [
      "Sum visit for test group: 33303\n",
      "Visit Page target = 1: 3847\n"
     ]
    }
   ],
   "source": [
    "test_sum_visit, test_visit_1 = df_test['VisitPageFlag'].agg(['count', lambda x: (x == 1).sum()])\n",
    "print(f\"Sum visit for test group: {test_sum_visit}\")\n",
    "print(f\"Visit Page target = 1: {test_visit_1}\")\n"
   ]
  },
  {
   "cell_type": "code",
   "execution_count": 21,
   "id": "53297dc2-7ef5-48ef-8b47-daed3d561894",
   "metadata": {},
   "outputs": [
    {
     "data": {
      "text/plain": [
       "0.11551511875806984"
      ]
     },
     "execution_count": 21,
     "metadata": {},
     "output_type": "execute_result"
    }
   ],
   "source": [
    "test_ratio_visit = test_visit_1/test_sum_visit\n",
    "test_ratio_visit\n"
   ]
  },
  {
   "cell_type": "markdown",
   "id": "997728d2-52e1-430a-a844-90c1019692c0",
   "metadata": {},
   "source": [
    "Выполним тест Шапиро-Уилка на нормальность распределения значений в столбце \"VisitPageFlag\" из контрольной группы (df_control).\n",
    "Подсчитаем test_stat в тесте Шапиро-Уилка, числовой показатель, который измеряет, насколько сильно распределение данных отклоняется от нормального.\n",
    "\n",
    "Если test_stat близок к 1 → распределение почти нормальное.\n",
    "Если test_stat значительно меньше 1 → данные сильно отклоняются от нормального распределения."
   ]
  },
  {
   "cell_type": "code",
   "execution_count": 22,
   "id": "64ae3b86-cacb-4757-a00a-a4979ee5a69e",
   "metadata": {},
   "outputs": [
    {
     "name": "stdout",
     "output_type": "stream",
     "text": [
      "Control Group: Test Stat = 0.3266, p-value = 0.0000\n",
      "❌ Данные НЕ являются нормально распределёнными.\n",
      "--------------------------------------------------\n",
      "Test Group: Test Stat = 0.3711, p-value = 0.0000\n",
      "❌ Данные НЕ являются нормально распределёнными.\n",
      "--------------------------------------------------\n"
     ]
    },
    {
     "name": "stderr",
     "output_type": "stream",
     "text": [
      "/Library/Frameworks/Python.framework/Versions/3.9/lib/python3.9/site-packages/scipy/stats/_morestats.py:1882: UserWarning: p-value may not be accurate for N > 5000.\n",
      "  warnings.warn(\"p-value may not be accurate for N > 5000.\")\n"
     ]
    }
   ],
   "source": [
    "from scipy.stats import shapiro\n",
    "\n",
    "# Функция для теста Шапиро-Уилка и интерпретации результата\n",
    "def check_normality(data, label=\"Dataset\"):\n",
    "    test_stat, pvalue = shapiro(data)\n",
    "    print(f\"{label}: Test Stat = {test_stat:.4f}, p-value = {pvalue:.4f}\")\n",
    "    print(\"✅ Данные нормально распределены.\" if pvalue > 0.05 else \"❌ Данные НЕ являются нормально распределёнными.\")\n",
    "    print(\"-\" * 50)\n",
    "\n",
    "# Проверяем обе выборки\n",
    "check_normality(df_control[\"VisitPageFlag\"], \"Control Group\")\n",
    "check_normality(df_test[\"VisitPageFlag\"], \"Test Group\")\n"
   ]
  },
  {
   "cell_type": "markdown",
   "id": "f22ac188-9416-47ca-8d45-27d56eafaba8",
   "metadata": {},
   "source": [
    "Оба значения Test Stat значительно меньше 1, что указывает на сильное отклонение от нормального распределения.\n",
    "\n",
    "Будем использовать непараметрические тесты вместо t-теста (Манна-Уитни).\n"
   ]
  },
  {
   "cell_type": "code",
   "execution_count": 23,
   "id": "c068cc02-8351-4b11-a140-30019618d216",
   "metadata": {},
   "outputs": [
    {
     "name": "stdout",
     "output_type": "stream",
     "text": [
      "📊 Control Group vs Test Group: Test Stat = 1080913226.5000, p-value = 0.0000\n"
     ]
    }
   ],
   "source": [
    "# Функция для теста Манна-Уитни\n",
    "def mann_whitney_test(group1, group2, label1=\"Control\", label2=\"Test\"):\n",
    "    test_stat, pvalue = mannwhitneyu(group1, group2)\n",
    "    print(f\"📊 {label1} vs {label2}: Test Stat = {test_stat:.4f}, p-value = {pvalue:.4f}\")\n",
    "\n",
    "mann_whitney_test(df_control[\"VisitPageFlag\"], df_test[\"VisitPageFlag\"], \"Control Group\", \"Test Group\")\n"
   ]
  },
  {
   "cell_type": "markdown",
   "id": "2505ac70-85dc-4a8b-8197-a046775d53a1",
   "metadata": {},
   "source": [
    "Интересно всё же попробовать провести Т-тест:"
   ]
  },
  {
   "cell_type": "code",
   "execution_count": 24,
   "id": "52b5ae21-ad6d-46d3-b2f8-ba998fccb0a2",
   "metadata": {},
   "outputs": [
    {
     "name": "stdout",
     "output_type": "stream",
     "text": [
      "📊 T-test: Test Stat = -11.1825, p-value = 0.0000\n"
     ]
    }
   ],
   "source": [
    "# Выполняем t-тест для независимых выборок\n",
    "test_stat, pvalue = ttest_ind(df_control[\"VisitPageFlag\"], df_test[\"VisitPageFlag\"], equal_var=False)\n",
    "print(f\"📊 T-test: Test Stat = {test_stat:.4f}, p-value = {pvalue:.4f}\")\n"
   ]
  },
  {
   "cell_type": "markdown",
   "id": "e620b011-8c58-4889-9ef9-0b2ee12b48be",
   "metadata": {},
   "source": [
    "Создадим кросс-таблицу"
   ]
  },
  {
   "cell_type": "code",
   "execution_count": 25,
   "id": "1e39317f-8313-4c5e-ba41-84e9ecda35db",
   "metadata": {},
   "outputs": [],
   "source": [
    "# Создание кросс-таблицы \n",
    "groupped = pd.crosstab(\n",
    "    df['group'], df['VisitPageFlag'], margins=True, margins_name=\"Total\"\n",
    ")"
   ]
  },
  {
   "cell_type": "code",
   "execution_count": 26,
   "id": "af18bbb3-bb8e-4a97-b354-f9fba798e754",
   "metadata": {},
   "outputs": [
    {
     "data": {
      "text/html": [
       "<div>\n",
       "<style scoped>\n",
       "    .dataframe tbody tr th:only-of-type {\n",
       "        vertical-align: middle;\n",
       "    }\n",
       "\n",
       "    .dataframe tbody tr th {\n",
       "        vertical-align: top;\n",
       "    }\n",
       "\n",
       "    .dataframe thead th {\n",
       "        text-align: right;\n",
       "    }\n",
       "</style>\n",
       "<table border=\"1\" class=\"dataframe\">\n",
       "  <thead>\n",
       "    <tr style=\"text-align: right;\">\n",
       "      <th>VisitPageFlag</th>\n",
       "      <th>0</th>\n",
       "      <th>1</th>\n",
       "      <th>Total</th>\n",
       "    </tr>\n",
       "    <tr>\n",
       "      <th>group</th>\n",
       "      <th></th>\n",
       "      <th></th>\n",
       "      <th></th>\n",
       "    </tr>\n",
       "  </thead>\n",
       "  <tbody>\n",
       "    <tr>\n",
       "      <th>Control</th>\n",
       "      <td>90.774902</td>\n",
       "      <td>9.225098</td>\n",
       "      <td>100.0</td>\n",
       "    </tr>\n",
       "    <tr>\n",
       "      <th>Test</th>\n",
       "      <td>88.448488</td>\n",
       "      <td>11.551512</td>\n",
       "      <td>100.0</td>\n",
       "    </tr>\n",
       "    <tr>\n",
       "      <th>Total</th>\n",
       "      <td>89.998296</td>\n",
       "      <td>10.001704</td>\n",
       "      <td>100.0</td>\n",
       "    </tr>\n",
       "  </tbody>\n",
       "</table>\n",
       "</div>"
      ],
      "text/plain": [
       "VisitPageFlag          0          1  Total\n",
       "group                                     \n",
       "Control        90.774902   9.225098  100.0\n",
       "Test           88.448488  11.551512  100.0\n",
       "Total          89.998296  10.001704  100.0"
      ]
     },
     "execution_count": 26,
     "metadata": {},
     "output_type": "execute_result"
    }
   ],
   "source": [
    "# %\n",
    "percent_distribution = 100 * groupped.div(groupped['Total'], axis=0)\n",
    "\n",
    "percent_distribution\n"
   ]
  },
  {
   "cell_type": "markdown",
   "id": "1beba98e-c309-40c2-9a99-9f620ea0e8a0",
   "metadata": {},
   "source": [
    "### Control Group:  \n",
    "90.77% пользователей не выполнили действие (VisitPageFlag = 0).\n",
    "9.23% пользователей выполнили (VisitPageFlag = 1).\n",
    "\n",
    "### Test Group:\n",
    "88.45% пользователей не выполнили действие.\n",
    "11.55% выполнили.\n",
    "\n",
    "### Общий итог (Total):\n",
    "\n",
    "В среднем по всем данным 89.99% пользователей не перешли.\n",
    "10.00% перешли."
   ]
  },
  {
   "cell_type": "markdown",
   "id": "4d012eb5-730e-4747-9318-7400920fff67",
   "metadata": {},
   "source": [
    "### О чем это говорит?\n",
    "\n",
    "**В тестовой группе процент пользователей, выполнивших действие, выше**\n",
    "\n",
    " Рост с **9.23%** до **11.55%**.\n",
    " Разница составляет:    \n",
    "  `11.55% - 9.23% = 2.32%`.\n",
    "  \n",
    " Относительное улучшение (Uplift):   \n",
    "  `11.55 - 9.23/9.23 * 100 = 25.1%`\n",
    " \n",
    "  Это означает, что тестовое изменение увеличило выполнение целевого действия на **~25.1%**.\n",
    "\n",
    "**Тестовые изменения (новый вариант) оказали положительное влияние**\n",
    "\n",
    "Разница небольшая, но значимая (судя по результатам статистических тестов).  \n",
    "Если разница подтверждена **Манна-Уитни** и **t-тестом**, можно говорить о статистически значимом эффекте.  \n",
    "\n",
    "**Важно оценить бизнес-значимость**\n",
    "\n",
    "Допустим `VisitPageFlag = 1` означает покупку или конверсию, это значит что **25% рост** — это хороший результат.  \n",
    "Нужно оценить **LTV (Lifetime Value)** пользователей, чтобы понять, окупится ли внедрение нового варианта.  "
   ]
  },
  {
   "cell_type": "code",
   "execution_count": null,
   "id": "df238789-dbf2-43d2-ae03-e0ae98f154ef",
   "metadata": {},
   "outputs": [],
   "source": []
  }
 ],
 "metadata": {
  "kernelspec": {
   "display_name": "Python 3 (ipykernel)",
   "language": "python",
   "name": "python3"
  },
  "language_info": {
   "codemirror_mode": {
    "name": "ipython",
    "version": 3
   },
   "file_extension": ".py",
   "mimetype": "text/x-python",
   "name": "python",
   "nbconvert_exporter": "python",
   "pygments_lexer": "ipython3",
   "version": "3.9.5"
  }
 },
 "nbformat": 4,
 "nbformat_minor": 5
}
